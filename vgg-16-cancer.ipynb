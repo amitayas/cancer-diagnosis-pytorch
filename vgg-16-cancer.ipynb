{
 "cells": [
  {
   "cell_type": "code",
   "execution_count": 11,
   "metadata": {},
   "outputs": [],
   "source": [
    "## import pytorch and related packages\n",
    "\n",
    "import torch\n",
    "from torch import nn\n",
    "from torch.optim.lr_scheduler import ReduceLROnPlateau\n",
    "from torch.utils.data import DataLoader, Dataset\n",
    "from torchvision import datasets\n",
    "from torchvision.transforms import transforms\n",
    "from torchvision.models import vgg16, VGG16_Weights"
   ]
  },
  {
   "cell_type": "code",
   "execution_count": 12,
   "metadata": {},
   "outputs": [],
   "source": [
    "## import other packages\n",
    "\n",
    "import pandas as pd\n",
    "import numpy as np\n",
    "import matplotlib.pyplot as plt\n",
    "from sklearn.model_selection import train_test_split\n",
    "import PIL\n",
    "import glob\n",
    "import os\n",
    "from IPython.display import Image"
   ]
  },
  {
   "cell_type": "code",
   "execution_count": 13,
   "metadata": {},
   "outputs": [
    {
     "data": {
      "text/plain": [
       "'mps'"
      ]
     },
     "execution_count": 13,
     "metadata": {},
     "output_type": "execute_result"
    }
   ],
   "source": [
    "## setup device for training \n",
    "\n",
    "if torch.backends.mps.is_available():    # check if Apple Silicon mps is available\n",
    "    device = \"mps\"\n",
    "elif torch.cuda.is_available():          # check id cuda is available\n",
    "    device = \"cuda\"\n",
    "else:\n",
    "    device = \"cpu\"                       # default to cpu if none are available\n",
    "\n",
    "device"
   ]
  },
  {
   "cell_type": "code",
   "execution_count": 14,
   "metadata": {},
   "outputs": [],
   "source": [
    "## Image processing \n",
    "\n",
    "transform = transforms.Compose([\n",
    "    transforms.Resize(size=(224, 224)),\n",
    "    transforms.ToTensor(),\n",
    "    transforms.Normalize(mean=[0.485, 0.456, 0.406],\n",
    "                         std=[0.229, 0.224, 0.225])])"
   ]
  },
  {
   "cell_type": "code",
   "execution_count": 15,
   "metadata": {},
   "outputs": [],
   "source": [
    "## Prepating the data \n",
    "\n",
    "train_path = \"./Data/train/\"\n",
    "val_path = \"./Data/valid/\"\n",
    "\n",
    "train_dataset = datasets.ImageFolder(train_path, transform=transform)\n",
    "val_dataset = datasets.ImageFolder(val_path, transform=transform)\n",
    "\n",
    "train_loader = DataLoader(train_dataset, batch_size=32, shuffle=True)\n",
    "val_loader = DataLoader(val_dataset, batch_size=32, shuffle=True)"
   ]
  },
  {
   "cell_type": "code",
   "execution_count": 16,
   "metadata": {},
   "outputs": [
    {
     "name": "stdout",
     "output_type": "stream",
     "text": [
      "Sequential(\n",
      "  (0): Linear(in_features=25088, out_features=4096, bias=True)\n",
      "  (1): ReLU(inplace=True)\n",
      "  (2): Dropout(p=0.5, inplace=False)\n",
      "  (3): Linear(in_features=4096, out_features=4096, bias=True)\n",
      "  (4): ReLU(inplace=True)\n",
      "  (5): Dropout(p=0.5, inplace=False)\n",
      "  (6): Linear(in_features=4096, out_features=1000, bias=True)\n",
      ")\n"
     ]
    }
   ],
   "source": [
    "## Declaring the model\n",
    "\n",
    "model = vgg16(weights=VGG16_Weights.DEFAULT)\n",
    "\n",
    "for param in model.features.parameters():\n",
    "    param.requires_grad = False\n",
    "\n",
    "print((model.classifier))\n",
    "model.classifier = nn.Sequential(\n",
    "    nn.Dropout(0.5),\n",
    "    nn.Flatten(),\n",
    "    nn.BatchNorm1d(num_features=25088), \n",
    "    nn.Linear(25088, 32),\n",
    "    nn.BatchNorm1d(32),\n",
    "    nn.ReLU(),\n",
    "    nn.Dropout(0.5),\n",
    "    nn.Linear(32, 32),\n",
    "    nn.BatchNorm1d(32),\n",
    "    nn.ReLU(),\n",
    "    nn.Dropout(0.5),\n",
    "    nn.Linear(32, 32),\n",
    "    nn.BatchNorm1d(32),\n",
    "    nn.ReLU(),\n",
    "    nn.Linear(32, 4),\n",
    "    nn.Softmax(dim=1)\n",
    ")\n",
    "\n",
    "# for param in model.fc.parameters():\n",
    "#     param.requires_grad = True"
   ]
  },
  {
   "cell_type": "code",
   "execution_count": 17,
   "metadata": {},
   "outputs": [],
   "source": [
    "## Set up loss function and optimizer\n",
    "\n",
    "loss_fn = nn.CrossEntropyLoss().to(device=device)\n",
    "\n",
    "optimizer = torch.optim.Adam(model.parameters())\n",
    "\n",
    "lr_scheduler = ReduceLROnPlateau(optimizer, mode='min', factor=0.50, patience=3, verbose=True, min_lr=1e-7)\n",
    "\n",
    "# optimizer = torch.optim.Adam(params=model.fc.parameters(),\n",
    "\n",
    "\n",
    "# optimizer = torch.optim.AdamW(params=model.fc.parameters(),\n",
    "#                              lr=0.001,\n",
    "#                              weight_decay=0.0001)"
   ]
  },
  {
   "cell_type": "code",
   "execution_count": 18,
   "metadata": {},
   "outputs": [
    {
     "name": "stdout",
     "output_type": "stream",
     "text": [
      "Epoch 1/30 | Train Loss: 1.3654 | Train Acc: 0.3475 | Test Loss: 1.3348 | Test Acc: 0.5556\n",
      "Epoch 2/30 | Train Loss: 1.3169 | Train Acc: 0.4715 | Test Loss: 1.2768 | Test Acc: 0.6528\n",
      "Epoch 3/30 | Train Loss: 1.2576 | Train Acc: 0.5742 | Test Loss: 1.2297 | Test Acc: 0.6250\n",
      "Epoch 4/30 | Train Loss: 1.2109 | Train Acc: 0.6117 | Test Loss: 1.1796 | Test Acc: 0.6667\n",
      "Epoch 5/30 | Train Loss: 1.1588 | Train Acc: 0.6819 | Test Loss: 1.1245 | Test Acc: 0.7083\n",
      "Epoch 6/30 | Train Loss: 1.0983 | Train Acc: 0.7569 | Test Loss: 1.0847 | Test Acc: 0.7917\n",
      "Epoch 7/30 | Train Loss: 1.0484 | Train Acc: 0.8369 | Test Loss: 1.0217 | Test Acc: 0.8611\n",
      "Epoch 8/30 | Train Loss: 1.0311 | Train Acc: 0.8320 | Test Loss: 0.9909 | Test Acc: 0.8750\n",
      "Epoch 9/30 | Train Loss: 0.9650 | Train Acc: 0.8809 | Test Loss: 0.9501 | Test Acc: 0.9167\n",
      "Epoch 10/30 | Train Loss: 0.9507 | Train Acc: 0.8842 | Test Loss: 0.9305 | Test Acc: 0.8611\n",
      "Epoch 11/30 | Train Loss: 0.9243 | Train Acc: 0.8874 | Test Loss: 0.9249 | Test Acc: 0.8750\n",
      "Epoch 12/30 | Train Loss: 0.8957 | Train Acc: 0.9103 | Test Loss: 0.9169 | Test Acc: 0.8611\n",
      "Epoch 13/30 | Train Loss: 0.8914 | Train Acc: 0.9054 | Test Loss: 0.8898 | Test Acc: 0.9028\n",
      "Epoch 14/30 | Train Loss: 0.8708 | Train Acc: 0.9217 | Test Loss: 0.8882 | Test Acc: 0.8750\n",
      "Epoch 15/30 | Train Loss: 0.8758 | Train Acc: 0.9135 | Test Loss: 0.9223 | Test Acc: 0.8333\n",
      "Epoch 16/30 | Train Loss: 0.8639 | Train Acc: 0.9152 | Test Loss: 0.8894 | Test Acc: 0.8889\n",
      "Epoch 17/30 | Train Loss: 0.8709 | Train Acc: 0.8972 | Test Loss: 0.8958 | Test Acc: 0.8611\n",
      "Epoch 00018: reducing learning rate of group 0 to 5.0000e-04.\n",
      "Epoch 18/30 | Train Loss: 0.8498 | Train Acc: 0.9266 | Test Loss: 0.8899 | Test Acc: 0.8333\n",
      "Epoch 19/30 | Train Loss: 0.8572 | Train Acc: 0.9201 | Test Loss: 0.8818 | Test Acc: 0.8750\n",
      "Epoch 20/30 | Train Loss: 0.8552 | Train Acc: 0.9119 | Test Loss: 0.8668 | Test Acc: 0.9028\n",
      "Epoch 21/30 | Train Loss: 0.8268 | Train Acc: 0.9478 | Test Loss: 0.8766 | Test Acc: 0.8611\n",
      "Epoch 22/30 | Train Loss: 0.8339 | Train Acc: 0.9445 | Test Loss: 0.8657 | Test Acc: 0.8889\n",
      "Epoch 23/30 | Train Loss: 0.8388 | Train Acc: 0.9331 | Test Loss: 0.8288 | Test Acc: 0.9167\n",
      "Epoch 24/30 | Train Loss: 0.8273 | Train Acc: 0.9396 | Test Loss: 0.8411 | Test Acc: 0.9306\n",
      "Epoch 25/30 | Train Loss: 0.8239 | Train Acc: 0.9478 | Test Loss: 0.8650 | Test Acc: 0.8889\n",
      "Epoch 26/30 | Train Loss: 0.8156 | Train Acc: 0.9560 | Test Loss: 0.8836 | Test Acc: 0.8750\n",
      "Epoch 00027: reducing learning rate of group 0 to 2.5000e-04.\n",
      "Epoch 27/30 | Train Loss: 0.8254 | Train Acc: 0.9429 | Test Loss: 0.8489 | Test Acc: 0.9028\n",
      "Epoch 28/30 | Train Loss: 0.8212 | Train Acc: 0.9413 | Test Loss: 0.8339 | Test Acc: 0.9306\n",
      "Epoch 29/30 | Train Loss: 0.8288 | Train Acc: 0.9331 | Test Loss: 0.8651 | Test Acc: 0.9028\n",
      "Epoch 30/30 | Train Loss: 0.8153 | Train Acc: 0.9511 | Test Loss: 0.8772 | Test Acc: 0.8611\n"
     ]
    }
   ],
   "source": [
    "## Training loop\n",
    "\n",
    "epochs = 30\n",
    "model = model.to(device=device)\n",
    "\n",
    "for epoch in range(epochs):\n",
    "    train_loss = 0.0\n",
    "    train_acc = 0\n",
    "\n",
    "    model.train()\n",
    "\n",
    "    for (X, y) in train_loader:\n",
    "        X, y = X.to(device), y.to(device)\n",
    "\n",
    "        optimizer.zero_grad()\n",
    "        logits = model(X)\n",
    "        loss = loss_fn(logits, y)\n",
    "        _, preds = torch.max(logits, 1)\n",
    "        train_acc += torch.sum(preds == y).item()\n",
    "\n",
    "        loss.backward()\n",
    "        optimizer.step()\n",
    "\n",
    "        train_loss += loss.item() * y.size(0)\n",
    "\n",
    "    train_loss = train_loss / len(train_loader.dataset)\n",
    "    train_acc = train_acc / len(train_loader.dataset)\n",
    "\n",
    "\n",
    "    val_loss = 0.0    \n",
    "    val_acc = 0\n",
    "    \n",
    "    model.eval()\n",
    "    with torch.no_grad():\n",
    "        for (X, y) in val_loader:\n",
    "            X, y = X.to(device), y.to(device)\n",
    "\n",
    "            logits = model(X)\n",
    "            loss = loss_fn(logits, y)\n",
    "\n",
    "            _, preds = torch.max(logits, 1)\n",
    "            val_acc += torch.sum(preds == y).item()\n",
    "\n",
    "            val_loss += loss.item() * y.size(0)\n",
    "        \n",
    "        val_loss = val_loss / len(val_loader.dataset)\n",
    "        val_acc = val_acc /len(val_loader.dataset)\n",
    "\n",
    "    lr_scheduler.step(val_loss)\n",
    "    \n",
    "    print(f'Epoch {epoch + 1}/{epochs} | Train Loss: {train_loss:.4f} | Train Acc: {train_acc:.4f} | 'f'Test Loss: {val_loss:.4f} | Test Acc: {val_acc:.4f}')\n",
    "\n"
   ]
  }
 ],
 "metadata": {
  "kernelspec": {
   "display_name": "Python 3",
   "language": "python",
   "name": "python3"
  },
  "language_info": {
   "codemirror_mode": {
    "name": "ipython",
    "version": 3
   },
   "file_extension": ".py",
   "mimetype": "text/x-python",
   "name": "python",
   "nbconvert_exporter": "python",
   "pygments_lexer": "ipython3",
   "version": "3.11.4"
  },
  "orig_nbformat": 4
 },
 "nbformat": 4,
 "nbformat_minor": 2
}

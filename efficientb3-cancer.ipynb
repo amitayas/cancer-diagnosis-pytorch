{
 "cells": [
  {
   "cell_type": "code",
   "execution_count": 75,
   "metadata": {},
   "outputs": [],
   "source": [
    "## import pytorch and related packages\n",
    "\n",
    "import torch\n",
    "from torch import nn\n",
    "from torch.optim.lr_scheduler import ReduceLROnPlateau\n",
    "from torch.utils.data import DataLoader, Dataset\n",
    "from torchvision import datasets\n",
    "from torchvision.transforms import transforms\n",
    "from torchvision.models import vgg16, VGG16_Weights, efficientnet_b7, EfficientNet_B7_Weights"
   ]
  },
  {
   "cell_type": "code",
   "execution_count": 76,
   "metadata": {},
   "outputs": [],
   "source": [
    "## import other packages\n",
    "\n",
    "import pandas as pd\n",
    "import numpy as np\n",
    "import matplotlib.pyplot as plt\n",
    "from sklearn.model_selection import train_test_split\n",
    "import PIL\n",
    "import glob\n",
    "import os\n",
    "from IPython.display import Image"
   ]
  },
  {
   "cell_type": "code",
   "execution_count": 77,
   "metadata": {},
   "outputs": [
    {
     "data": {
      "text/plain": [
       "'mps'"
      ]
     },
     "execution_count": 77,
     "metadata": {},
     "output_type": "execute_result"
    }
   ],
   "source": [
    "## setup device for training \n",
    "\n",
    "if torch.backends.mps.is_available():    # check if Apple Silicon mps is available\n",
    "    device = \"mps\"\n",
    "elif torch.cuda.is_available():          # check id cuda is available\n",
    "    device = \"cuda\"\n",
    "else:\n",
    "    device = \"cpu\"                       # default to cpu if none are available\n",
    "\n",
    "device"
   ]
  },
  {
   "cell_type": "code",
   "execution_count": 78,
   "metadata": {},
   "outputs": [],
   "source": [
    "## Image processing \n",
    "\n",
    "transform = transforms.Compose([\n",
    "    transforms.Resize(size=(224, 224)),\n",
    "    transforms.ToTensor(),\n",
    "    transforms.Normalize(mean=[0.485, 0.456, 0.406],\n",
    "                         std=[0.229, 0.224, 0.225])])"
   ]
  },
  {
   "cell_type": "code",
   "execution_count": 79,
   "metadata": {},
   "outputs": [],
   "source": [
    "## Prepating the data \n",
    "\n",
    "train_path = \"./Data/train/\"\n",
    "val_path = \"./Data/valid/\"\n",
    "\n",
    "train_dataset = datasets.ImageFolder(train_path, transform=transform)\n",
    "val_dataset = datasets.ImageFolder(val_path, transform=transform)\n",
    "\n",
    "train_loader = DataLoader(train_dataset, batch_size=32, shuffle=True)\n",
    "val_loader = DataLoader(val_dataset, batch_size=32, shuffle=True)"
   ]
  },
  {
   "cell_type": "code",
   "execution_count": 80,
   "metadata": {},
   "outputs": [],
   "source": [
    "## Declaring the model\n",
    "\n",
    "model = efficientnet_b7(pretrained=True)\n",
    "\n",
    "for param in model.parameters():\n",
    "    param.requires_grad = False\n",
    "\n",
    "\n",
    "model.classifier = nn.Sequential(\n",
    "    nn.Dropout(0.5),\n",
    "    nn.Flatten(),\n",
    "    nn.BatchNorm1d(num_features=2560), \n",
    "    nn.Linear(2560, 32),\n",
    "    nn.BatchNorm1d(32),\n",
    "    nn.ReLU(),\n",
    "    nn.Dropout(0.5),\n",
    "    nn.Linear(32, 32),\n",
    "    nn.BatchNorm1d(32),\n",
    "    nn.ReLU(),\n",
    "    nn.Dropout(0.5),\n",
    "    nn.Linear(32, 32),\n",
    "    nn.BatchNorm1d(32),\n",
    "    nn.ReLU(),\n",
    "    nn.Linear(32, 4),\n",
    "    nn.Softmax(dim=1)\n",
    ")"
   ]
  },
  {
   "cell_type": "code",
   "execution_count": 81,
   "metadata": {},
   "outputs": [],
   "source": [
    "## Set up loss function and optimizer\n",
    "\n",
    "loss_fn = nn.CrossEntropyLoss().to(device=device)\n",
    "\n",
    "optimizer = torch.optim.Adam(model.parameters(), lr=0.01)\n",
    "\n",
    "\n",
    "\n",
    "\n",
    "lr_scheduler = ReduceLROnPlateau(optimizer, mode='min', factor=0.10, patience=3, verbose=True, min_lr=1e-7)\n",
    "\n",
    "\n",
    "# lr_scheduler = ReduceLROnPlateau(optimizer, mode='max', patience=patience,\n",
    "#                               threshold=threshold, factor=factor,\n",
    "#                               min_lr=0, verbose=True)\n",
    "# optimizer = torch.optim.Adam(params=model.fc.parameters(),\n",
    "\n",
    "\n",
    "# optimizer = torch.optim.AdamW(params=model.fc.parameters(),\n",
    "#                              lr=0.001,\n",
    "#                              weight_decay=0.0001)"
   ]
  },
  {
   "cell_type": "code",
   "execution_count": 82,
   "metadata": {},
   "outputs": [
    {
     "name": "stdout",
     "output_type": "stream",
     "text": [
      "Epoch 1/30 | Train Loss: 1.3779 | Train Acc: 0.3051 | Test Loss: 1.3915 | Test Acc: 0.2778\n",
      "Epoch 2/30 | Train Loss: 1.3179 | Train Acc: 0.4029 | Test Loss: 1.3959 | Test Acc: 0.3333\n",
      "Epoch 3/30 | Train Loss: 1.2360 | Train Acc: 0.4992 | Test Loss: 1.3439 | Test Acc: 0.4028\n",
      "Epoch 4/30 | Train Loss: 1.1555 | Train Acc: 0.6036 | Test Loss: 1.3120 | Test Acc: 0.4028\n",
      "Epoch 5/30 | Train Loss: 1.1614 | Train Acc: 0.5808 | Test Loss: 1.3390 | Test Acc: 0.3611\n",
      "Epoch 6/30 | Train Loss: 1.1060 | Train Acc: 0.6362 | Test Loss: 1.2913 | Test Acc: 0.4306\n",
      "Epoch 7/30 | Train Loss: 1.0957 | Train Acc: 0.6411 | Test Loss: 1.2900 | Test Acc: 0.4444\n",
      "Epoch 8/30 | Train Loss: 1.1085 | Train Acc: 0.6264 | Test Loss: 1.2514 | Test Acc: 0.4861\n",
      "Epoch 9/30 | Train Loss: 1.0879 | Train Acc: 0.6427 | Test Loss: 1.2596 | Test Acc: 0.4583\n",
      "Epoch 10/30 | Train Loss: 1.0969 | Train Acc: 0.6460 | Test Loss: 1.2847 | Test Acc: 0.4167\n",
      "Epoch 11/30 | Train Loss: 1.0839 | Train Acc: 0.6656 | Test Loss: 1.2838 | Test Acc: 0.4444\n",
      "Epoch 00012: reducing learning rate of group 0 to 1.0000e-03.\n",
      "Epoch 12/30 | Train Loss: 1.0838 | Train Acc: 0.6476 | Test Loss: 1.2615 | Test Acc: 0.4306\n",
      "Epoch 13/30 | Train Loss: 1.0374 | Train Acc: 0.7096 | Test Loss: 1.2503 | Test Acc: 0.4583\n",
      "Epoch 14/30 | Train Loss: 1.0509 | Train Acc: 0.6884 | Test Loss: 1.2485 | Test Acc: 0.4583\n",
      "Epoch 15/30 | Train Loss: 1.0753 | Train Acc: 0.6639 | Test Loss: 1.2428 | Test Acc: 0.4722\n",
      "Epoch 16/30 | Train Loss: 1.0497 | Train Acc: 0.6868 | Test Loss: 1.2275 | Test Acc: 0.5139\n",
      "Epoch 17/30 | Train Loss: 1.0588 | Train Acc: 0.6737 | Test Loss: 1.2255 | Test Acc: 0.5139\n",
      "Epoch 18/30 | Train Loss: 1.0509 | Train Acc: 0.6884 | Test Loss: 1.2269 | Test Acc: 0.5000\n",
      "Epoch 19/30 | Train Loss: 1.0285 | Train Acc: 0.7178 | Test Loss: 1.2301 | Test Acc: 0.5000\n",
      "Epoch 20/30 | Train Loss: 1.0482 | Train Acc: 0.6868 | Test Loss: 1.2297 | Test Acc: 0.5000\n",
      "Epoch 00021: reducing learning rate of group 0 to 1.0000e-04.\n",
      "Epoch 21/30 | Train Loss: 1.0319 | Train Acc: 0.7113 | Test Loss: 1.2294 | Test Acc: 0.5000\n",
      "Epoch 22/30 | Train Loss: 1.0496 | Train Acc: 0.6933 | Test Loss: 1.2336 | Test Acc: 0.4861\n",
      "Epoch 23/30 | Train Loss: 1.0446 | Train Acc: 0.7015 | Test Loss: 1.2308 | Test Acc: 0.5000\n",
      "Epoch 24/30 | Train Loss: 1.0155 | Train Acc: 0.7292 | Test Loss: 1.2192 | Test Acc: 0.5000\n",
      "Epoch 25/30 | Train Loss: 1.0583 | Train Acc: 0.6672 | Test Loss: 1.2234 | Test Acc: 0.4861\n",
      "Epoch 26/30 | Train Loss: 1.0597 | Train Acc: 0.6786 | Test Loss: 1.2088 | Test Acc: 0.5139\n",
      "Epoch 27/30 | Train Loss: 1.0330 | Train Acc: 0.7096 | Test Loss: 1.2105 | Test Acc: 0.4861\n",
      "Epoch 28/30 | Train Loss: 1.0234 | Train Acc: 0.7227 | Test Loss: 1.1630 | Test Acc: 0.5694\n",
      "Epoch 29/30 | Train Loss: 1.0296 | Train Acc: 0.7145 | Test Loss: 1.1589 | Test Acc: 0.5694\n",
      "Epoch 30/30 | Train Loss: 1.0341 | Train Acc: 0.7113 | Test Loss: 1.1533 | Test Acc: 0.5694\n"
     ]
    }
   ],
   "source": [
    "## Training loop\n",
    "\n",
    "epochs = 30\n",
    "model = model.to(device=device)\n",
    "\n",
    "for epoch in range(epochs):\n",
    "    train_loss = 0.0\n",
    "    train_acc = 0\n",
    "\n",
    "    model.train()\n",
    "\n",
    "    for (X, y) in train_loader:\n",
    "        X, y = X.to(device), y.to(device)\n",
    "\n",
    "        optimizer.zero_grad()\n",
    "        logits = model(X)\n",
    "        loss = loss_fn(logits, y)\n",
    "        _, preds = torch.max(logits, 1)\n",
    "        train_acc += torch.sum(preds == y).item()\n",
    "\n",
    "        loss.backward()\n",
    "        optimizer.step()\n",
    "\n",
    "        train_loss += loss.item() * y.size(0)\n",
    "\n",
    "    train_loss = train_loss / len(train_loader.dataset)\n",
    "    train_acc = train_acc / len(train_loader.dataset)\n",
    "\n",
    "\n",
    "    val_loss = 0.0    \n",
    "    val_acc = 0\n",
    "    \n",
    "    model.eval()\n",
    "    with torch.no_grad():\n",
    "        for (X, y) in val_loader:\n",
    "            X, y = X.to(device), y.to(device)\n",
    "\n",
    "            logits = model(X)\n",
    "            loss = loss_fn(logits, y)\n",
    "\n",
    "            _, preds = torch.max(logits, 1)\n",
    "            val_acc += torch.sum(preds == y).item()\n",
    "\n",
    "            val_loss += loss.item() * y.size(0)\n",
    "        \n",
    "        val_loss = val_loss / len(val_loader.dataset)\n",
    "        val_acc = val_acc /len(val_loader.dataset)\n",
    "\n",
    "    lr_scheduler.step(val_loss)\n",
    "    \n",
    "    print(f'Epoch {epoch + 1}/{epochs} | Train Loss: {train_loss:.4f} | Train Acc: {train_acc:.4f} | 'f'Test Loss: {val_loss:.4f} | Test Acc: {val_acc:.4f}')\n",
    "\n"
   ]
  }
 ],
 "metadata": {
  "kernelspec": {
   "display_name": "Python 3",
   "language": "python",
   "name": "python3"
  },
  "language_info": {
   "codemirror_mode": {
    "name": "ipython",
    "version": 3
   },
   "file_extension": ".py",
   "mimetype": "text/x-python",
   "name": "python",
   "nbconvert_exporter": "python",
   "pygments_lexer": "ipython3",
   "version": "3.11.4"
  },
  "orig_nbformat": 4
 },
 "nbformat": 4,
 "nbformat_minor": 2
}
